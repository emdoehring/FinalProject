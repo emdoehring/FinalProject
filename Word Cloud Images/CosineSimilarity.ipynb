{
 "cells": [
  {
   "cell_type": "code",
   "execution_count": 22,
   "id": "167948b1-4236-454a-8138-66cea65b881e",
   "metadata": {},
   "outputs": [
    {
     "name": "stderr",
     "output_type": "stream",
     "text": [
      "huggingface/tokenizers: The current process just got forked, after parallelism has already been used. Disabling parallelism to avoid deadlocks...\n",
      "To disable this warning, you can either:\n",
      "\t- Avoid using `tokenizers` before the fork if possible\n",
      "\t- Explicitly set the environment variable TOKENIZERS_PARALLELISM=(true | false)\n"
     ]
    },
    {
     "name": "stdout",
     "output_type": "stream",
     "text": [
      "Requirement already satisfied: InstructorEmbedding in /Users/emdoehring/miniconda3/envs/bigdata2024/lib/python3.11/site-packages (1.0.1)\n"
     ]
    }
   ],
   "source": [
    "# first we need to install the package\n",
    "!pip install InstructorEmbedding"
   ]
  },
  {
   "cell_type": "code",
   "execution_count": 23,
   "id": "fad39d45-0904-460c-8300-b7cff5a4f3e5",
   "metadata": {},
   "outputs": [
    {
     "name": "stderr",
     "output_type": "stream",
     "text": [
      "huggingface/tokenizers: The current process just got forked, after parallelism has already been used. Disabling parallelism to avoid deadlocks...\n",
      "To disable this warning, you can either:\n",
      "\t- Avoid using `tokenizers` before the fork if possible\n",
      "\t- Explicitly set the environment variable TOKENIZERS_PARALLELISM=(true | false)\n"
     ]
    },
    {
     "name": "stdout",
     "output_type": "stream",
     "text": [
      "Requirement already satisfied: sentence_transformers==2.2.2 in /Users/emdoehring/miniconda3/envs/bigdata2024/lib/python3.11/site-packages (2.2.2)\n",
      "Requirement already satisfied: transformers<5.0.0,>=4.6.0 in /Users/emdoehring/miniconda3/envs/bigdata2024/lib/python3.11/site-packages (from sentence_transformers==2.2.2) (4.40.1)\n",
      "Requirement already satisfied: tqdm in /Users/emdoehring/miniconda3/envs/bigdata2024/lib/python3.11/site-packages (from sentence_transformers==2.2.2) (4.66.2)\n",
      "Requirement already satisfied: torch>=1.6.0 in /Users/emdoehring/miniconda3/envs/bigdata2024/lib/python3.11/site-packages (from sentence_transformers==2.2.2) (2.3.0)\n",
      "Requirement already satisfied: torchvision in /Users/emdoehring/miniconda3/envs/bigdata2024/lib/python3.11/site-packages (from sentence_transformers==2.2.2) (0.18.0)\n",
      "Requirement already satisfied: numpy in /Users/emdoehring/miniconda3/envs/bigdata2024/lib/python3.11/site-packages (from sentence_transformers==2.2.2) (1.26.3)\n",
      "Requirement already satisfied: scikit-learn in /Users/emdoehring/miniconda3/envs/bigdata2024/lib/python3.11/site-packages (from sentence_transformers==2.2.2) (1.4.1.post1)\n",
      "Requirement already satisfied: scipy in /Users/emdoehring/miniconda3/envs/bigdata2024/lib/python3.11/site-packages (from sentence_transformers==2.2.2) (1.11.4)\n",
      "Requirement already satisfied: nltk in /Users/emdoehring/miniconda3/envs/bigdata2024/lib/python3.11/site-packages (from sentence_transformers==2.2.2) (3.8.1)\n",
      "Requirement already satisfied: sentencepiece in /Users/emdoehring/miniconda3/envs/bigdata2024/lib/python3.11/site-packages (from sentence_transformers==2.2.2) (0.2.0)\n",
      "Requirement already satisfied: huggingface-hub>=0.4.0 in /Users/emdoehring/miniconda3/envs/bigdata2024/lib/python3.11/site-packages (from sentence_transformers==2.2.2) (0.22.2)\n",
      "Requirement already satisfied: filelock in /Users/emdoehring/miniconda3/envs/bigdata2024/lib/python3.11/site-packages (from huggingface-hub>=0.4.0->sentence_transformers==2.2.2) (3.13.4)\n",
      "Requirement already satisfied: fsspec>=2023.5.0 in /Users/emdoehring/miniconda3/envs/bigdata2024/lib/python3.11/site-packages (from huggingface-hub>=0.4.0->sentence_transformers==2.2.2) (2024.3.1)\n",
      "Requirement already satisfied: packaging>=20.9 in /Users/emdoehring/miniconda3/envs/bigdata2024/lib/python3.11/site-packages (from huggingface-hub>=0.4.0->sentence_transformers==2.2.2) (23.1)\n",
      "Requirement already satisfied: pyyaml>=5.1 in /Users/emdoehring/miniconda3/envs/bigdata2024/lib/python3.11/site-packages (from huggingface-hub>=0.4.0->sentence_transformers==2.2.2) (6.0.1)\n",
      "Requirement already satisfied: requests in /Users/emdoehring/miniconda3/envs/bigdata2024/lib/python3.11/site-packages (from huggingface-hub>=0.4.0->sentence_transformers==2.2.2) (2.31.0)\n",
      "Requirement already satisfied: typing-extensions>=3.7.4.3 in /Users/emdoehring/miniconda3/envs/bigdata2024/lib/python3.11/site-packages (from huggingface-hub>=0.4.0->sentence_transformers==2.2.2) (4.9.0)\n",
      "Requirement already satisfied: sympy in /Users/emdoehring/miniconda3/envs/bigdata2024/lib/python3.11/site-packages (from torch>=1.6.0->sentence_transformers==2.2.2) (1.12)\n",
      "Requirement already satisfied: networkx in /Users/emdoehring/miniconda3/envs/bigdata2024/lib/python3.11/site-packages (from torch>=1.6.0->sentence_transformers==2.2.2) (2.8.2)\n",
      "Requirement already satisfied: jinja2 in /Users/emdoehring/miniconda3/envs/bigdata2024/lib/python3.11/site-packages (from torch>=1.6.0->sentence_transformers==2.2.2) (3.1.2)\n",
      "Requirement already satisfied: regex!=2019.12.17 in /Users/emdoehring/miniconda3/envs/bigdata2024/lib/python3.11/site-packages (from transformers<5.0.0,>=4.6.0->sentence_transformers==2.2.2) (2023.12.25)\n",
      "Requirement already satisfied: tokenizers<0.20,>=0.19 in /Users/emdoehring/miniconda3/envs/bigdata2024/lib/python3.11/site-packages (from transformers<5.0.0,>=4.6.0->sentence_transformers==2.2.2) (0.19.1)\n",
      "Requirement already satisfied: safetensors>=0.4.1 in /Users/emdoehring/miniconda3/envs/bigdata2024/lib/python3.11/site-packages (from transformers<5.0.0,>=4.6.0->sentence_transformers==2.2.2) (0.4.3)\n",
      "Requirement already satisfied: click in /Users/emdoehring/miniconda3/envs/bigdata2024/lib/python3.11/site-packages (from nltk->sentence_transformers==2.2.2) (8.1.7)\n",
      "Requirement already satisfied: joblib in /Users/emdoehring/miniconda3/envs/bigdata2024/lib/python3.11/site-packages (from nltk->sentence_transformers==2.2.2) (1.3.2)\n",
      "Requirement already satisfied: threadpoolctl>=2.0.0 in /Users/emdoehring/miniconda3/envs/bigdata2024/lib/python3.11/site-packages (from scikit-learn->sentence_transformers==2.2.2) (3.3.0)\n",
      "Requirement already satisfied: pillow!=8.3.*,>=5.3.0 in /Users/emdoehring/miniconda3/envs/bigdata2024/lib/python3.11/site-packages (from torchvision->sentence_transformers==2.2.2) (10.2.0)\n",
      "Requirement already satisfied: MarkupSafe>=2.0 in /Users/emdoehring/miniconda3/envs/bigdata2024/lib/python3.11/site-packages (from jinja2->torch>=1.6.0->sentence_transformers==2.2.2) (2.1.3)\n",
      "Requirement already satisfied: charset-normalizer<4,>=2 in /Users/emdoehring/miniconda3/envs/bigdata2024/lib/python3.11/site-packages (from requests->huggingface-hub>=0.4.0->sentence_transformers==2.2.2) (2.0.4)\n",
      "Requirement already satisfied: idna<4,>=2.5 in /Users/emdoehring/miniconda3/envs/bigdata2024/lib/python3.11/site-packages (from requests->huggingface-hub>=0.4.0->sentence_transformers==2.2.2) (3.4)\n",
      "Requirement already satisfied: urllib3<3,>=1.21.1 in /Users/emdoehring/miniconda3/envs/bigdata2024/lib/python3.11/site-packages (from requests->huggingface-hub>=0.4.0->sentence_transformers==2.2.2) (1.26.18)\n",
      "Requirement already satisfied: certifi>=2017.4.17 in /Users/emdoehring/miniconda3/envs/bigdata2024/lib/python3.11/site-packages (from requests->huggingface-hub>=0.4.0->sentence_transformers==2.2.2) (2023.11.17)\n",
      "Requirement already satisfied: mpmath>=0.19 in /Users/emdoehring/miniconda3/envs/bigdata2024/lib/python3.11/site-packages (from sympy->torch>=1.6.0->sentence_transformers==2.2.2) (1.3.0)\n"
     ]
    }
   ],
   "source": [
    "!pip install sentence_transformers==2.2.2"
   ]
  },
  {
   "cell_type": "code",
   "execution_count": 24,
   "id": "f22bc035-6633-4e0d-b749-a17ede2dcd61",
   "metadata": {},
   "outputs": [
    {
     "name": "stdout",
     "output_type": "stream",
     "text": [
      "load INSTRUCTOR_Transformer\n",
      "max_seq_length  512\n"
     ]
    }
   ],
   "source": [
    "from InstructorEmbedding import INSTRUCTOR\n",
    "\n",
    "# The model is large and can take a while to download\n",
    "model = INSTRUCTOR('hkunlp/instructor-large')"
   ]
  },
  {
   "cell_type": "code",
   "execution_count": 25,
   "id": "cfd2a4d2-4661-4947-a565-275eeb397205",
   "metadata": {},
   "outputs": [],
   "source": [
    "from sklearn.metrics.pairwise import cosine_similarity\n",
    "def compute_cosine_similarity(generated_song, actual_song):\n",
    "    embedding_prompt = 'Represent the following song'\n",
    "    embedding_generated = model.encode([[generated_song, embedding_prompt]])\n",
    "    embedding_actual = model.encode([[actual_song, embedding_prompt]])\n",
    "    similarity = cosine_similarity(embedding_generated, embedding_actual)\n",
    "    return similarity[0][0]"
   ]
  },
  {
   "cell_type": "code",
   "execution_count": 29,
   "id": "58310e67-2cab-4ba6-8f95-1b89c44acad7",
   "metadata": {},
   "outputs": [
    {
     "name": "stdout",
     "output_type": "stream",
     "text": [
      "1200\n"
     ]
    },
    {
     "data": {
      "text/plain": [
       "0.9166602"
      ]
     },
     "execution_count": 29,
     "metadata": {},
     "output_type": "execute_result"
    }
   ],
   "source": [
    "import pandas as pd\n",
    "df_lumineers = pd.read_csv('LumineersLyrics.csv', index_col=0)\n",
    "brightside_orig = df_lumineers['Lyrics'].values[18]\n",
    "print(len(brightside_orig))\n",
    "\n",
    "brightside_new = \"brightside baby tonight tonight tonight tonight i could see it in the air every word was like smoke from a cigarette you weren't far away from home i could see it in the air every word was like smoke from a cigarette you weren't far away from home i could see it in the air every word was like smoke from a cigarette you weren't far away from home i could see it in the air every word was like smoke from a cigarette you weren't far away from home i could see it in the air every word was like smoke from a cigarette you weren't far away from home i could see it in the air every word was like smoke from a cigarette you weren't far away from home i could see it in the air every word was like smoke from a cigarette you weren't far away from home i could see it in the air every word was like smoke from a cigarette you weren't far away from home i could see it in the air every word was like smoke from a cigarette you weren't far away from home i could see it in the air every word was like smoke from a cigarette you weren't far away from home i could see it in the air every word was like smoke from a cigarette you weren't far away from home i could see it in the air every word was like smoke from a cigarette you weren't far away from home i could see it in the air every word was like smoke from a cigarette you weren't far away from home i could see it in the air every word was like smoke from a cigarette you weren't far away from home i\"\n",
    "\n",
    "compute_cosine_similarity(brightside_new, brightside_orig)"
   ]
  },
  {
   "cell_type": "code",
   "execution_count": 28,
   "id": "ce4f4ead-150f-4100-9c20-1e210333f10b",
   "metadata": {},
   "outputs": [
    {
     "name": "stdout",
     "output_type": "stream",
     "text": [
      "A tornado flew around my room before you came\n",
      "Excuse the mess it made, it usually doesn't rain in\n",
      "Southern California, much like Arizona\n",
      "My eyes don't shed tears, but boy, they pour when\n",
      "\n",
      "I'm thinkin' 'bout you, ooh no, no, no\n",
      "I've been thinkin' bout you, you know, know, know\n",
      "I've been thinkin' bout you, do you think about me still?\n",
      "Do ya, do ya?\n",
      "\n",
      "Or do you not think so far ahead?\n",
      "'Cause I been thinkin' bout forever, ooh\n",
      "Or do you not think so far ahead?\n",
      "'Cause I been thinkin' bout forever, ooh\n",
      "\n",
      "No, I don't like you, I just thought you were cool enough to kick it\n",
      "Got a beach house I could sell you in Idaho\n",
      "Since you think I don't love you, I just thought you were cute\n",
      "That's why I kissed you\n",
      "Got a fighter jet, I don't get to fly it though, I'm lying down\n",
      "\n",
      "Thinkin' 'bout you, ooh no, no, no\n",
      "I've been thinkin' bout you, you know, know, know\n",
      "I've been thinkin' bout you, do you think about me still?\n",
      "Do ya, do ya?\n",
      "\n",
      "Or do you not think so far ahead?\n",
      "'Cause I been thinkin' bout forever, ooh\n",
      "Or do you not think so far ahead?\n",
      "'Cause I been thinkin' bout forever, ooh\n",
      "\n",
      "Yes, of course, I remember, how could I forget How could I forget?) how you feel? How you feel?)\n",
      "You know you were my first time, a new feel\n",
      "It won't ever get old, not in my soul, not in my spirit, keep it alive\n",
      "We'll go down this road 'til it turns from color to black and white\n",
      "\n",
      "Or do you not think so far ahead?\n",
      "'Cause I been thinkin' bout forever, ooh\n",
      "Or do you not think so far ahead?\n",
      "'Cause I been thinkin' bout forever, ooh\n"
     ]
    },
    {
     "data": {
      "text/plain": [
       "0.96511245"
      ]
     },
     "execution_count": 28,
     "metadata": {},
     "output_type": "execute_result"
    }
   ],
   "source": [
    "df_frank = pd.read_csv('Frank Ocean Lyrics.csv', index_col=0)\n",
    "thinkin_orig = df_frank['Lyrics'].values[0]\n",
    "# print(thinkin_orig)\n",
    "\n",
    "thinkin_new = \"a tornado flew around my room before you came excuse the mess you made i bet your mother would be proud of you primate sharpens tool to survive and thrive in the jungle maybe hearts were all breathing were all needing more than what they're giving cant you feel it? the space of whats missing you look up and i'll bet you'll catch it if you'd take a second to look up i know the truth is bounding but you gotta look up or you'll never see it coming a thousand kamikaze on their way down to you but you won't ever see them oh no no you'll never know he's lying 'til you look up and i'll bet you'll catch it if you'd take a second to look up i know the truth is bounding but you gotta look up or you'll never see it coming feels like i'm on the th floor last night last night? could we make it in? do you wish you had? what's life going to be like in front of her in front of her and where she go? she got me driving around the backstreets i thought i saw walking right past me i called you didn't answer to your name where's my angel? where'd you go? where'd you go? where'd you go? where'd you go? where'd you go? where'd you go? where'd you go? where'd you go? where'd you go? where'd you go? where'd you go? where'd you go? where'd you go? where'd you go? where'd you go? where'd you go? where'd you go? where'd you go? where'd you go? where'd you go? where'd you go? where'd you go? where'd you go? where'd you go? where'd you go? where'd you go? where'd you go? where'd you go? where'd you go? where'd you go?\"\n",
    "\n",
    "compute_cosine_similarity(thinkin_new, thinkin_orig)"
   ]
  },
  {
   "cell_type": "code",
   "execution_count": null,
   "id": "95409122-e273-442a-95dd-51c0fc0f5318",
   "metadata": {},
   "outputs": [],
   "source": []
  }
 ],
 "metadata": {
  "kernelspec": {
   "display_name": "Python 3 (ipykernel)",
   "language": "python",
   "name": "python3"
  },
  "language_info": {
   "codemirror_mode": {
    "name": "ipython",
    "version": 3
   },
   "file_extension": ".py",
   "mimetype": "text/x-python",
   "name": "python",
   "nbconvert_exporter": "python",
   "pygments_lexer": "ipython3",
   "version": "3.11.7"
  }
 },
 "nbformat": 4,
 "nbformat_minor": 5
}
