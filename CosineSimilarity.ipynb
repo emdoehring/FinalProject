{
 "cells": [
  {
   "cell_type": "code",
   "execution_count": null,
   "id": "167948b1-4236-454a-8138-66cea65b881e",
   "metadata": {},
   "outputs": [],
   "source": [
    "# first we need to install the package\n",
    "!pip install InstructorEmbedding"
   ]
  },
  {
   "cell_type": "code",
   "execution_count": null,
   "id": "fad39d45-0904-460c-8300-b7cff5a4f3e5",
   "metadata": {},
   "outputs": [],
   "source": [
    "!pip install sentence_transformers==2.2.2"
   ]
  },
  {
   "cell_type": "code",
   "execution_count": null,
   "id": "f22bc035-6633-4e0d-b749-a17ede2dcd61",
   "metadata": {},
   "outputs": [],
   "source": [
    "from InstructorEmbedding import INSTRUCTOR\n",
    "\n",
    "# The model is large and can take a while to download\n",
    "model = INSTRUCTOR('hkunlp/instructor-large')"
   ]
  },
  {
   "cell_type": "code",
   "execution_count": null,
   "id": "cfd2a4d2-4661-4947-a565-275eeb397205",
   "metadata": {},
   "outputs": [],
   "source": [
    "from sklearn.metrics.pairwise import cosine_similarity\n",
    "def compute_cosine_similarity(generated_song, actual_song):\n",
    "    embedding_prompt = 'Represent the following song'\n",
    "    embedding_generated = model.encode([[generated_song, embedding_prompt]])\n",
    "    embedding_actual = model.encode([[actual_song, embedding_prompt]])\n",
    "    similarity = cosine_similarity(embedding_generated, embedding_actual)\n",
    "    return similarity"
   ]
  }
 ],
 "metadata": {
  "kernelspec": {
   "display_name": "Python 3 (ipykernel)",
   "language": "python",
   "name": "python3"
  },
  "language_info": {
   "codemirror_mode": {
    "name": "ipython",
    "version": 3
   },
   "file_extension": ".py",
   "mimetype": "text/x-python",
   "name": "python",
   "nbconvert_exporter": "python",
   "pygments_lexer": "ipython3",
   "version": "3.11.7"
  }
 },
 "nbformat": 4,
 "nbformat_minor": 5
}
